{
 "cells": [
  {
   "cell_type": "markdown",
   "metadata": {},
   "source": [
    "# Introduction\n",
    "\n",
    "In this project, I will be working with a dataset of used cars from [*eBay Kleinanzeigen*](https://www.ebay-kleinanzeigen.de/s-autos/c216), a classifieds section on the German eBay website. The main aim of this project is to clean the data, analyze the used car listings, and report any noteable trends.\n",
    "\n",
    "Before I begin interacting with the data, I will import the numpy, pandas, and matplotlib libraries that are required for my analysis."
   ]
  },
  {
   "cell_type": "code",
   "execution_count": 1,
   "metadata": {},
   "outputs": [],
   "source": [
    "import numpy as np\n",
    "import pandas as pd\n",
    "import matplotlib.pyplot as plt\n",
    "%matplotlib inline"
   ]
  },
  {
   "cell_type": "markdown",
   "metadata": {},
   "source": [
    "## First Look at the Dataset\n",
    "\n",
    "Next I will read in the *autos.csv* dataset. This dataset is \"Latin-1\" encoded rather than the default encoding, which is \"UTF-8\". In order to get a good feel for the data, I will print the first five lines in the autos dataset."
   ]
  },
  {
   "cell_type": "code",
   "execution_count": 2,
   "metadata": {},
   "outputs": [],
   "source": [
    "autos = pd.read_csv(\"autos.csv\", encoding = \"Latin-1\")"
   ]
  },
  {
   "cell_type": "code",
   "execution_count": 3,
   "metadata": {},
   "outputs": [
    {
     "data": {
      "text/html": [
       "<div>\n",
       "<style scoped>\n",
       "    .dataframe tbody tr th:only-of-type {\n",
       "        vertical-align: middle;\n",
       "    }\n",
       "\n",
       "    .dataframe tbody tr th {\n",
       "        vertical-align: top;\n",
       "    }\n",
       "\n",
       "    .dataframe thead th {\n",
       "        text-align: right;\n",
       "    }\n",
       "</style>\n",
       "<table border=\"1\" class=\"dataframe\">\n",
       "  <thead>\n",
       "    <tr style=\"text-align: right;\">\n",
       "      <th></th>\n",
       "      <th>dateCrawled</th>\n",
       "      <th>name</th>\n",
       "      <th>seller</th>\n",
       "      <th>offerType</th>\n",
       "      <th>price</th>\n",
       "      <th>abtest</th>\n",
       "      <th>vehicleType</th>\n",
       "      <th>yearOfRegistration</th>\n",
       "      <th>gearbox</th>\n",
       "      <th>powerPS</th>\n",
       "      <th>model</th>\n",
       "      <th>kilometer</th>\n",
       "      <th>monthOfRegistration</th>\n",
       "      <th>fuelType</th>\n",
       "      <th>brand</th>\n",
       "      <th>notRepairedDamage</th>\n",
       "      <th>dateCreated</th>\n",
       "      <th>nrOfPictures</th>\n",
       "      <th>postalCode</th>\n",
       "      <th>lastSeen</th>\n",
       "    </tr>\n",
       "  </thead>\n",
       "  <tbody>\n",
       "    <tr>\n",
       "      <td>0</td>\n",
       "      <td>2016-03-24 11:52:17</td>\n",
       "      <td>Golf_3_1.6</td>\n",
       "      <td>privat</td>\n",
       "      <td>Angebot</td>\n",
       "      <td>480</td>\n",
       "      <td>test</td>\n",
       "      <td>NaN</td>\n",
       "      <td>1993</td>\n",
       "      <td>manuell</td>\n",
       "      <td>0</td>\n",
       "      <td>golf</td>\n",
       "      <td>150000</td>\n",
       "      <td>0</td>\n",
       "      <td>benzin</td>\n",
       "      <td>volkswagen</td>\n",
       "      <td>NaN</td>\n",
       "      <td>2016-03-24 00:00:00</td>\n",
       "      <td>0</td>\n",
       "      <td>70435</td>\n",
       "      <td>2016-04-07 03:16:57</td>\n",
       "    </tr>\n",
       "    <tr>\n",
       "      <td>1</td>\n",
       "      <td>2016-03-24 10:58:45</td>\n",
       "      <td>A5_Sportback_2.7_Tdi</td>\n",
       "      <td>privat</td>\n",
       "      <td>Angebot</td>\n",
       "      <td>18300</td>\n",
       "      <td>test</td>\n",
       "      <td>coupe</td>\n",
       "      <td>2011</td>\n",
       "      <td>manuell</td>\n",
       "      <td>190</td>\n",
       "      <td>NaN</td>\n",
       "      <td>125000</td>\n",
       "      <td>5</td>\n",
       "      <td>diesel</td>\n",
       "      <td>audi</td>\n",
       "      <td>ja</td>\n",
       "      <td>2016-03-24 00:00:00</td>\n",
       "      <td>0</td>\n",
       "      <td>66954</td>\n",
       "      <td>2016-04-07 01:46:50</td>\n",
       "    </tr>\n",
       "    <tr>\n",
       "      <td>2</td>\n",
       "      <td>2016-03-14 12:52:21</td>\n",
       "      <td>Jeep_Grand_Cherokee_\"Overland\"</td>\n",
       "      <td>privat</td>\n",
       "      <td>Angebot</td>\n",
       "      <td>9800</td>\n",
       "      <td>test</td>\n",
       "      <td>suv</td>\n",
       "      <td>2004</td>\n",
       "      <td>automatik</td>\n",
       "      <td>163</td>\n",
       "      <td>grand</td>\n",
       "      <td>125000</td>\n",
       "      <td>8</td>\n",
       "      <td>diesel</td>\n",
       "      <td>jeep</td>\n",
       "      <td>NaN</td>\n",
       "      <td>2016-03-14 00:00:00</td>\n",
       "      <td>0</td>\n",
       "      <td>90480</td>\n",
       "      <td>2016-04-05 12:47:46</td>\n",
       "    </tr>\n",
       "    <tr>\n",
       "      <td>3</td>\n",
       "      <td>2016-03-17 16:54:04</td>\n",
       "      <td>GOLF_4_1_4__3TÜRER</td>\n",
       "      <td>privat</td>\n",
       "      <td>Angebot</td>\n",
       "      <td>1500</td>\n",
       "      <td>test</td>\n",
       "      <td>kleinwagen</td>\n",
       "      <td>2001</td>\n",
       "      <td>manuell</td>\n",
       "      <td>75</td>\n",
       "      <td>golf</td>\n",
       "      <td>150000</td>\n",
       "      <td>6</td>\n",
       "      <td>benzin</td>\n",
       "      <td>volkswagen</td>\n",
       "      <td>nein</td>\n",
       "      <td>2016-03-17 00:00:00</td>\n",
       "      <td>0</td>\n",
       "      <td>91074</td>\n",
       "      <td>2016-03-17 17:40:17</td>\n",
       "    </tr>\n",
       "    <tr>\n",
       "      <td>4</td>\n",
       "      <td>2016-03-31 17:25:20</td>\n",
       "      <td>Skoda_Fabia_1.4_TDI_PD_Classic</td>\n",
       "      <td>privat</td>\n",
       "      <td>Angebot</td>\n",
       "      <td>3600</td>\n",
       "      <td>test</td>\n",
       "      <td>kleinwagen</td>\n",
       "      <td>2008</td>\n",
       "      <td>manuell</td>\n",
       "      <td>69</td>\n",
       "      <td>fabia</td>\n",
       "      <td>90000</td>\n",
       "      <td>7</td>\n",
       "      <td>diesel</td>\n",
       "      <td>skoda</td>\n",
       "      <td>nein</td>\n",
       "      <td>2016-03-31 00:00:00</td>\n",
       "      <td>0</td>\n",
       "      <td>60437</td>\n",
       "      <td>2016-04-06 10:17:21</td>\n",
       "    </tr>\n",
       "  </tbody>\n",
       "</table>\n",
       "</div>"
      ],
      "text/plain": [
       "           dateCrawled                            name  seller offerType  \\\n",
       "0  2016-03-24 11:52:17                      Golf_3_1.6  privat   Angebot   \n",
       "1  2016-03-24 10:58:45            A5_Sportback_2.7_Tdi  privat   Angebot   \n",
       "2  2016-03-14 12:52:21  Jeep_Grand_Cherokee_\"Overland\"  privat   Angebot   \n",
       "3  2016-03-17 16:54:04              GOLF_4_1_4__3TÜRER  privat   Angebot   \n",
       "4  2016-03-31 17:25:20  Skoda_Fabia_1.4_TDI_PD_Classic  privat   Angebot   \n",
       "\n",
       "   price abtest vehicleType  yearOfRegistration    gearbox  powerPS  model  \\\n",
       "0    480   test         NaN                1993    manuell        0   golf   \n",
       "1  18300   test       coupe                2011    manuell      190    NaN   \n",
       "2   9800   test         suv                2004  automatik      163  grand   \n",
       "3   1500   test  kleinwagen                2001    manuell       75   golf   \n",
       "4   3600   test  kleinwagen                2008    manuell       69  fabia   \n",
       "\n",
       "   kilometer  monthOfRegistration fuelType       brand notRepairedDamage  \\\n",
       "0     150000                    0   benzin  volkswagen               NaN   \n",
       "1     125000                    5   diesel        audi                ja   \n",
       "2     125000                    8   diesel        jeep               NaN   \n",
       "3     150000                    6   benzin  volkswagen              nein   \n",
       "4      90000                    7   diesel       skoda              nein   \n",
       "\n",
       "           dateCreated  nrOfPictures  postalCode             lastSeen  \n",
       "0  2016-03-24 00:00:00             0       70435  2016-04-07 03:16:57  \n",
       "1  2016-03-24 00:00:00             0       66954  2016-04-07 01:46:50  \n",
       "2  2016-03-14 00:00:00             0       90480  2016-04-05 12:47:46  \n",
       "3  2016-03-17 00:00:00             0       91074  2016-03-17 17:40:17  \n",
       "4  2016-03-31 00:00:00             0       60437  2016-04-06 10:17:21  "
      ]
     },
     "execution_count": 3,
     "metadata": {},
     "output_type": "execute_result"
    }
   ],
   "source": [
    "autos.head()"
   ]
  },
  {
   "cell_type": "code",
   "execution_count": 4,
   "metadata": {},
   "outputs": [
    {
     "data": {
      "text/plain": [
       "371528"
      ]
     },
     "execution_count": 4,
     "metadata": {},
     "output_type": "execute_result"
    }
   ],
   "source": [
    "len(autos)"
   ]
  },
  {
   "cell_type": "markdown",
   "metadata": {},
   "source": [
    "After taking a quick look at the dataset, the most pertinant columns for analysis are:\n",
    "- seller = What's the difference between private and public sellers in relation to X?\n",
    "- price = What factors affect the price of a car?\n",
    "- yearOfRegistration = What affect does the age of the car have on factor X?\n",
    "- kilometer = How does the number of kilometers driven affect factor X?\n",
    "\n",
    "The info method used below gives information about the type of object in each column as well as how many objects each column has. Note that more columns have 371,528 values (which is the number of entries in the dataset) except for vehicleType, gearbox, model, fuelType, and note RepairedDamage, which all have a few missing values."
   ]
  },
  {
   "cell_type": "code",
   "execution_count": 5,
   "metadata": {},
   "outputs": [
    {
     "name": "stdout",
     "output_type": "stream",
     "text": [
      "<class 'pandas.core.frame.DataFrame'>\n",
      "RangeIndex: 371528 entries, 0 to 371527\n",
      "Data columns (total 20 columns):\n",
      "dateCrawled            371528 non-null object\n",
      "name                   371528 non-null object\n",
      "seller                 371528 non-null object\n",
      "offerType              371528 non-null object\n",
      "price                  371528 non-null int64\n",
      "abtest                 371528 non-null object\n",
      "vehicleType            333659 non-null object\n",
      "yearOfRegistration     371528 non-null int64\n",
      "gearbox                351319 non-null object\n",
      "powerPS                371528 non-null int64\n",
      "model                  351044 non-null object\n",
      "kilometer              371528 non-null int64\n",
      "monthOfRegistration    371528 non-null int64\n",
      "fuelType               338142 non-null object\n",
      "brand                  371528 non-null object\n",
      "notRepairedDamage      299468 non-null object\n",
      "dateCreated            371528 non-null object\n",
      "nrOfPictures           371528 non-null int64\n",
      "postalCode             371528 non-null int64\n",
      "lastSeen               371528 non-null object\n",
      "dtypes: int64(7), object(13)\n",
      "memory usage: 56.7+ MB\n"
     ]
    }
   ],
   "source": [
    "autos.info()"
   ]
  },
  {
   "cell_type": "markdown",
   "metadata": {},
   "source": [
    "## Converting Camel Case to Snake Case\n",
    "\n",
    "The names of these columns is in camelCase, which appears clunky and is more difficult to read than snake_case. I will rename all columns that are in camelCase with their snake_case equivalents."
   ]
  },
  {
   "cell_type": "code",
   "execution_count": 6,
   "metadata": {},
   "outputs": [],
   "source": [
    "autos = autos.rename(columns={\"yearOfRegistration\": \"registration_year\",\n",
    "                             \"monthOfRegistration\": \"registration_month\",\n",
    "                             \"notRepairedDamage\": \"unrepaired_damage\",\n",
    "                             \"dateCreated\": \"ad_created\",\n",
    "                             \"vehicleType\": \"vehicle_type\",\n",
    "                             \"offerType\": \"offer_type\",\n",
    "                             \"powerPS\": \"power_PS\",\n",
    "                             \"fuelType\": \"fuel_type\",\n",
    "                             \"nrOfPictures\": \"nr_of_pictures\",\n",
    "                             \"postalCode\": \"postal_code\",\n",
    "                             \"lastSeen\": \"last_seen\",\n",
    "                             \"dateCrawled\": \"date_crawled\"})"
   ]
  },
  {
   "cell_type": "code",
   "execution_count": 7,
   "metadata": {},
   "outputs": [
    {
     "data": {
      "text/html": [
       "<div>\n",
       "<style scoped>\n",
       "    .dataframe tbody tr th:only-of-type {\n",
       "        vertical-align: middle;\n",
       "    }\n",
       "\n",
       "    .dataframe tbody tr th {\n",
       "        vertical-align: top;\n",
       "    }\n",
       "\n",
       "    .dataframe thead th {\n",
       "        text-align: right;\n",
       "    }\n",
       "</style>\n",
       "<table border=\"1\" class=\"dataframe\">\n",
       "  <thead>\n",
       "    <tr style=\"text-align: right;\">\n",
       "      <th></th>\n",
       "      <th>date_crawled</th>\n",
       "      <th>name</th>\n",
       "      <th>seller</th>\n",
       "      <th>offer_type</th>\n",
       "      <th>price</th>\n",
       "      <th>abtest</th>\n",
       "      <th>vehicle_type</th>\n",
       "      <th>registration_year</th>\n",
       "      <th>gearbox</th>\n",
       "      <th>power_PS</th>\n",
       "      <th>model</th>\n",
       "      <th>kilometer</th>\n",
       "      <th>registration_month</th>\n",
       "      <th>fuel_type</th>\n",
       "      <th>brand</th>\n",
       "      <th>unrepaired_damage</th>\n",
       "      <th>ad_created</th>\n",
       "      <th>nr_of_pictures</th>\n",
       "      <th>postal_code</th>\n",
       "      <th>last_seen</th>\n",
       "    </tr>\n",
       "  </thead>\n",
       "  <tbody>\n",
       "    <tr>\n",
       "      <td>0</td>\n",
       "      <td>2016-03-24 11:52:17</td>\n",
       "      <td>Golf_3_1.6</td>\n",
       "      <td>privat</td>\n",
       "      <td>Angebot</td>\n",
       "      <td>480</td>\n",
       "      <td>test</td>\n",
       "      <td>NaN</td>\n",
       "      <td>1993</td>\n",
       "      <td>manuell</td>\n",
       "      <td>0</td>\n",
       "      <td>golf</td>\n",
       "      <td>150000</td>\n",
       "      <td>0</td>\n",
       "      <td>benzin</td>\n",
       "      <td>volkswagen</td>\n",
       "      <td>NaN</td>\n",
       "      <td>2016-03-24 00:00:00</td>\n",
       "      <td>0</td>\n",
       "      <td>70435</td>\n",
       "      <td>2016-04-07 03:16:57</td>\n",
       "    </tr>\n",
       "    <tr>\n",
       "      <td>1</td>\n",
       "      <td>2016-03-24 10:58:45</td>\n",
       "      <td>A5_Sportback_2.7_Tdi</td>\n",
       "      <td>privat</td>\n",
       "      <td>Angebot</td>\n",
       "      <td>18300</td>\n",
       "      <td>test</td>\n",
       "      <td>coupe</td>\n",
       "      <td>2011</td>\n",
       "      <td>manuell</td>\n",
       "      <td>190</td>\n",
       "      <td>NaN</td>\n",
       "      <td>125000</td>\n",
       "      <td>5</td>\n",
       "      <td>diesel</td>\n",
       "      <td>audi</td>\n",
       "      <td>ja</td>\n",
       "      <td>2016-03-24 00:00:00</td>\n",
       "      <td>0</td>\n",
       "      <td>66954</td>\n",
       "      <td>2016-04-07 01:46:50</td>\n",
       "    </tr>\n",
       "    <tr>\n",
       "      <td>2</td>\n",
       "      <td>2016-03-14 12:52:21</td>\n",
       "      <td>Jeep_Grand_Cherokee_\"Overland\"</td>\n",
       "      <td>privat</td>\n",
       "      <td>Angebot</td>\n",
       "      <td>9800</td>\n",
       "      <td>test</td>\n",
       "      <td>suv</td>\n",
       "      <td>2004</td>\n",
       "      <td>automatik</td>\n",
       "      <td>163</td>\n",
       "      <td>grand</td>\n",
       "      <td>125000</td>\n",
       "      <td>8</td>\n",
       "      <td>diesel</td>\n",
       "      <td>jeep</td>\n",
       "      <td>NaN</td>\n",
       "      <td>2016-03-14 00:00:00</td>\n",
       "      <td>0</td>\n",
       "      <td>90480</td>\n",
       "      <td>2016-04-05 12:47:46</td>\n",
       "    </tr>\n",
       "  </tbody>\n",
       "</table>\n",
       "</div>"
      ],
      "text/plain": [
       "          date_crawled                            name  seller offer_type  \\\n",
       "0  2016-03-24 11:52:17                      Golf_3_1.6  privat    Angebot   \n",
       "1  2016-03-24 10:58:45            A5_Sportback_2.7_Tdi  privat    Angebot   \n",
       "2  2016-03-14 12:52:21  Jeep_Grand_Cherokee_\"Overland\"  privat    Angebot   \n",
       "\n",
       "   price abtest vehicle_type  registration_year    gearbox  power_PS  model  \\\n",
       "0    480   test          NaN               1993    manuell         0   golf   \n",
       "1  18300   test        coupe               2011    manuell       190    NaN   \n",
       "2   9800   test          suv               2004  automatik       163  grand   \n",
       "\n",
       "   kilometer  registration_month fuel_type       brand unrepaired_damage  \\\n",
       "0     150000                   0    benzin  volkswagen               NaN   \n",
       "1     125000                   5    diesel        audi                ja   \n",
       "2     125000                   8    diesel        jeep               NaN   \n",
       "\n",
       "            ad_created  nr_of_pictures  postal_code            last_seen  \n",
       "0  2016-03-24 00:00:00               0        70435  2016-04-07 03:16:57  \n",
       "1  2016-03-24 00:00:00               0        66954  2016-04-07 01:46:50  \n",
       "2  2016-03-14 00:00:00               0        90480  2016-04-05 12:47:46  "
      ]
     },
     "execution_count": 7,
     "metadata": {},
     "output_type": "execute_result"
    }
   ],
   "source": [
    "autos.head(3)"
   ]
  },
  {
   "cell_type": "markdown",
   "metadata": {},
   "source": [
    "# Examining Columns that Could Potentially Yield Useful Information\n",
    "\n",
    "I will examine a few of the columns to see if they contain any noteable information. I will primarily take a look at the total number of possible values and the distribution of these values. Below I have created variables that represent each one of the rows in the dataset."
   ]
  },
  {
   "cell_type": "code",
   "execution_count": 8,
   "metadata": {},
   "outputs": [],
   "source": [
    "seller = autos[\"seller\"]\n",
    "price = autos[\"price\"]\n",
    "registration_year = autos[\"registration_year\"]\n",
    "kilometer = autos[\"kilometer\"]"
   ]
  },
  {
   "cell_type": "markdown",
   "metadata": {},
   "source": [
    "Taking a look at the shape of these columns will help me determine how many possible values are in each column, which can be used to determine how useful these columns are to analyze."
   ]
  },
  {
   "cell_type": "code",
   "execution_count": 9,
   "metadata": {
    "scrolled": true
   },
   "outputs": [
    {
     "name": "stdout",
     "output_type": "stream",
     "text": [
      "Seller Shape: (2,)\n",
      "Price Shape: (5597,)\n",
      "Registration Year Shape: (155,)\n",
      "Kilometer Shape: (13,)\n"
     ]
    }
   ],
   "source": [
    "print(\"Seller Shape: \" + str(seller.unique().shape))\n",
    "print(\"Price Shape: \" + str(price.unique().shape))\n",
    "print(\"Registration Year Shape: \" + str(registration_year.unique().shape))\n",
    "print(\"Kilometer Shape: \" + str(kilometer.unique().shape))"
   ]
  },
  {
   "cell_type": "markdown",
   "metadata": {},
   "source": [
    "From the information above, it is fairly obvious that \"seller\" is a qualitative value (with two possible options) and \"kilometer\" is a quantitive value categorized into discrete bins. Also note that there are too many possible values for registration_year (cars have not even existed for 155 years), so I will have to limit the number of values in this column. "
   ]
  },
  {
   "cell_type": "markdown",
   "metadata": {},
   "source": [
    "## Seller and Kilometer Columns\n",
    "\n",
    "Since both the seller and kilometer columns have a small number of possible values, I can use the value_counts method to analyze all possible values."
   ]
  },
  {
   "cell_type": "code",
   "execution_count": 10,
   "metadata": {
    "scrolled": true
   },
   "outputs": [
    {
     "data": {
      "text/plain": [
       "privat        371525\n",
       "gewerblich         3\n",
       "Name: seller, dtype: int64"
      ]
     },
     "execution_count": 10,
     "metadata": {},
     "output_type": "execute_result"
    }
   ],
   "source": [
    "seller.value_counts()"
   ]
  },
  {
   "cell_type": "code",
   "execution_count": 11,
   "metadata": {},
   "outputs": [
    {
     "data": {
      "text/plain": [
       "150000    240797\n",
       "125000     38067\n",
       "100000     15920\n",
       "90000      12523\n",
       "80000      11053\n",
       "70000       9773\n",
       "60000       8669\n",
       "50000       7615\n",
       "5000        7069\n",
       "40000       6376\n",
       "30000       6041\n",
       "20000       5676\n",
       "10000       1949\n",
       "Name: kilometer, dtype: int64"
      ]
     },
     "execution_count": 11,
     "metadata": {},
     "output_type": "execute_result"
    }
   ],
   "source": [
    "kilometer.value_counts()"
   ]
  },
  {
   "cell_type": "markdown",
   "metadata": {},
   "source": [
    "It looks like basically all of the values in the seller are privat, so this column will not be useful in my analysis. The distribution of the value in the kilometer column is much more useful, as nearly all the values are in the 150,000 km bin. Below I take a look at some statistical information regarding this column."
   ]
  },
  {
   "cell_type": "code",
   "execution_count": 12,
   "metadata": {
    "scrolled": true
   },
   "outputs": [
    {
     "data": {
      "text/plain": [
       "count    371528.000000\n",
       "mean     125618.688228\n",
       "std       40112.337051\n",
       "min        5000.000000\n",
       "25%      125000.000000\n",
       "50%      150000.000000\n",
       "75%      150000.000000\n",
       "max      150000.000000\n",
       "Name: kilometer, dtype: float64"
      ]
     },
     "execution_count": 12,
     "metadata": {},
     "output_type": "execute_result"
    }
   ],
   "source": [
    "kilometer.describe()"
   ]
  },
  {
   "cell_type": "markdown",
   "metadata": {},
   "source": [
    "Since the 50th percentile and the maximum value are both 150,000, and the 25th percentile is 125,000, I can conclude that between 50% and 75% of the values in the kilometer column are 150,000. Almost all of the used cars on the German eBay site have a very high mileage."
   ]
  },
  {
   "cell_type": "markdown",
   "metadata": {},
   "source": [
    "## Price and Registration Year Columns\n",
    "\n",
    "Because these columns contain a large amount of possible values, I won't be able to analyze these value by listing them using the value_counts method. However, I can still apply statistical methods to determine common ranges of values."
   ]
  },
  {
   "cell_type": "code",
   "execution_count": 13,
   "metadata": {},
   "outputs": [
    {
     "data": {
      "text/plain": [
       "count    3.715280e+05\n",
       "mean     1.729514e+04\n",
       "std      3.587954e+06\n",
       "min      0.000000e+00\n",
       "25%      1.150000e+03\n",
       "50%      2.950000e+03\n",
       "75%      7.200000e+03\n",
       "max      2.147484e+09\n",
       "Name: price, dtype: float64"
      ]
     },
     "execution_count": 13,
     "metadata": {},
     "output_type": "execute_result"
    }
   ],
   "source": [
    "price.describe()"
   ]
  },
  {
   "cell_type": "code",
   "execution_count": 14,
   "metadata": {},
   "outputs": [
    {
     "data": {
      "text/plain": [
       "count    371528.000000\n",
       "mean       2004.577997\n",
       "std          92.866598\n",
       "min        1000.000000\n",
       "25%        1999.000000\n",
       "50%        2003.000000\n",
       "75%        2008.000000\n",
       "max        9999.000000\n",
       "Name: registration_year, dtype: float64"
      ]
     },
     "execution_count": 14,
     "metadata": {},
     "output_type": "execute_result"
    }
   ],
   "source": [
    "registration_year.describe()"
   ]
  },
  {
   "cell_type": "markdown",
   "metadata": {},
   "source": [
    "There are clearly many issues with the data in the price and registration_year columns that will need to be amended.\n",
    "\n",
    "The maximum value of the price column is over 2 billion dollars, while the mean value is significantly higher than the 75% quartile. To fix this, I will select a range of probably price values and set the dataset to only have data entries that are within that price range. I'm going to choose to select values between 100 and 500k, since people are not going to sell cars for less than 100 and no one is going to sell a used car for more than 500k. The data entries that lie outside of this range are either insincere offers or typos.\n",
    "\n",
    "The registration_year has a minimum of 1000 and a maximum of 9999. This dataset is from 2016, so naturally that will be the maximum possible value. Since cars weren't manufactured until around 1920, I'm going to select that as my minimum range. There might be a few cars with years less than that, but they will be outliers and thus it won't affect my analysis."
   ]
  },
  {
   "cell_type": "markdown",
   "metadata": {},
   "source": [
    "### Frequency Distribution of Price"
   ]
  },
  {
   "cell_type": "code",
   "execution_count": 15,
   "metadata": {},
   "outputs": [],
   "source": [
    "autos = autos[autos[\"price\"].between(100, 500000)]"
   ]
  },
  {
   "cell_type": "code",
   "execution_count": 16,
   "metadata": {
    "scrolled": true
   },
   "outputs": [
    {
     "data": {
      "text/plain": [
       "count    358108.000000\n",
       "mean       5958.315134\n",
       "std        9312.949853\n",
       "min         100.000000\n",
       "25%        1290.000000\n",
       "50%        3100.000000\n",
       "75%        7500.000000\n",
       "max      500000.000000\n",
       "Name: price, dtype: float64"
      ]
     },
     "execution_count": 16,
     "metadata": {},
     "output_type": "execute_result"
    }
   ],
   "source": [
    "autos[\"price\"].describe()"
   ]
  },
  {
   "cell_type": "code",
   "execution_count": 17,
   "metadata": {},
   "outputs": [
    {
     "data": {
      "text/plain": [
       "<matplotlib.axes._subplots.AxesSubplot at 0x118d4cdd0>"
      ]
     },
     "execution_count": 17,
     "metadata": {},
     "output_type": "execute_result"
    },
    {
     "data": {
      "image/png": "[encoded data removed]",
      "text/plain": [
       "<Figure size 432x288 with 1 Axes>"
      ]
     },
     "metadata": {
      "needs_background": "light"
     },
     "output_type": "display_data"
    }
   ],
   "source": [
    "# Frequency Distribution of Price (100 - 500K)\n",
    "autos[\"price\"].value_counts(normalize=True).sort_index().plot()"
   ]
  },
  {
   "cell_type": "code",
   "execution_count": 18,
   "metadata": {},
   "outputs": [
    {
     "data": {
      "text/plain": [
       "<matplotlib.axes._subplots.AxesSubplot at 0x11a2d6a90>"
      ]
     },
     "execution_count": 18,
     "metadata": {},
     "output_type": "execute_result"
    },
    {
     "data": {
      "image/png": "[encoded data removed]",
      "text/plain": [
       "<Figure size 432x288 with 1 Axes>"
      ]
     },
     "metadata": {
      "needs_background": "light"
     },
     "output_type": "display_data"
    }
   ],
   "source": [
    "# Frequency Distribution of Price (100 - 30K)\n",
    "autos[autos[\"price\"].between(100, 30000)][\"price\"].value_counts(normalize=True).sort_index().plot()\n"
   ]
  },
  {
   "cell_type": "markdown",
   "metadata": {},
   "source": [
    "The mean of the price column, which was over 10,000, has now decreased to being around 6,000, which is also less than the 75th percentile. This suggests that the cars priced at over 500k were greatly inflating the mean. Note that the distribution chart indicates that there are very few cars over 30k, so I have created a second chart that graphs the frequency of all cars sold at prices from 100 to 30k dollars. Note that the overall frequency decreases very rapidly as price increases starting from around 1000 dollars."
   ]
  },
  {
   "cell_type": "markdown",
   "metadata": {},
   "source": [
    "### Frequncy Distribution of Registration Year"
   ]
  },
  {
   "cell_type": "code",
   "execution_count": 19,
   "metadata": {},
   "outputs": [],
   "source": [
    "autos = autos[autos[\"registration_year\"].between(1920, 2016)]"
   ]
  },
  {
   "cell_type": "code",
   "execution_count": 20,
   "metadata": {},
   "outputs": [
    {
     "data": {
      "text/plain": [
       "count    344198.000000\n",
       "mean       2002.938222\n",
       "std           7.119982\n",
       "min        1923.000000\n",
       "25%        1999.000000\n",
       "50%        2003.000000\n",
       "75%        2008.000000\n",
       "max        2016.000000\n",
       "Name: registration_year, dtype: float64"
      ]
     },
     "execution_count": 20,
     "metadata": {},
     "output_type": "execute_result"
    }
   ],
   "source": [
    "autos[\"registration_year\"].describe()"
   ]
  },
  {
   "cell_type": "code",
   "execution_count": 21,
   "metadata": {},
   "outputs": [
    {
     "data": {
      "text/plain": [
       "<matplotlib.axes._subplots.AxesSubplot at 0x119199b90>"
      ]
     },
     "execution_count": 21,
     "metadata": {},
     "output_type": "execute_result"
    },
    {
     "data": {
      "image/png": "[encoded data removed]",
      "text/plain": [
       "<Figure size 432x288 with 1 Axes>"
      ]
     },
     "metadata": {
      "needs_background": "light"
     },
     "output_type": "display_data"
    }
   ],
   "source": [
    "# Frequency Distribution of Registration Year (1920 - 2016) \n",
    "autos[\"registration_year\"].value_counts(normalize=True).sort_index().plot()"
   ]
  },
  {
   "cell_type": "code",
   "execution_count": 22,
   "metadata": {},
   "outputs": [
    {
     "data": {
      "text/plain": [
       "<matplotlib.axes._subplots.AxesSubplot at 0x1192241d0>"
      ]
     },
     "execution_count": 22,
     "metadata": {},
     "output_type": "execute_result"
    },
    {
     "data": {
      "image/png": "[encoded data removed]",
      "text/plain": [
       "<Figure size 432x288 with 1 Axes>"
      ]
     },
     "metadata": {
      "needs_background": "light"
     },
     "output_type": "display_data"
    }
   ],
   "source": [
    "# Frequency Distribution of Registration Year (1920 - 2016) \n",
    "autos[autos[\"registration_year\"].between(1985, 2016)][\"registration_year\"].value_counts(normalize=True).sort_index().plot()\n"
   ]
  },
  {
   "cell_type": "markdown",
   "metadata": {},
   "source": [
    "Note that the mean registration year (2002) indicates that the vast majority of cars are younger than two decades old, which makes sense considering very few cars have a lifespan of older than a decade or two. Very few used cars were registered before 1985, so I created another frequency chart with indicating only registration years from 1985-2016. The frequency distribution increases very rapidly up to around the year 2000 and then starts to decrease very rapidly at around 2006, which roughly matches the 25% and 75% quartiles ranges of 1999 and 2008 respectively."
   ]
  },
  {
   "cell_type": "markdown",
   "metadata": {},
   "source": [
    "# Analyzing the Top Brands Sold\n",
    "\n",
    "Let's take a look at all of the different car brands sold on German eBay. First, let's take a look at the number of different brands as well as the frequency of each brand sold."
   ]
  },
  {
   "cell_type": "code",
   "execution_count": 23,
   "metadata": {
    "scrolled": true
   },
   "outputs": [
    {
     "name": "stdout",
     "output_type": "stream",
     "text": [
      "(40,)\n"
     ]
    },
    {
     "data": {
      "text/plain": [
       "volkswagen        0.211843\n",
       "bmw               0.109945\n",
       "opel              0.106177\n",
       "mercedes_benz     0.097092\n",
       "audi              0.089745\n",
       "ford              0.068687\n",
       "renault           0.047426\n",
       "peugeot           0.030157\n",
       "fiat              0.025674\n",
       "seat              0.018690\n",
       "skoda             0.015761\n",
       "mazda             0.015418\n",
       "smart             0.014373\n",
       "citroen           0.013943\n",
       "nissan            0.013606\n",
       "toyota            0.012993\n",
       "hyundai           0.010000\n",
       "mini              0.009434\n",
       "volvo             0.009166\n",
       "sonstige_autos    0.009146\n",
       "mitsubishi        0.008239\n",
       "honda             0.007551\n",
       "kia               0.006935\n",
       "suzuki            0.006363\n",
       "alfa_romeo        0.006290\n",
       "porsche           0.006194\n",
       "chevrolet         0.005041\n",
       "chrysler          0.003850\n",
       "dacia             0.002507\n",
       "jeep              0.002194\n",
       "land_rover        0.002182\n",
       "daihatsu          0.002135\n",
       "subaru            0.002098\n",
       "jaguar            0.001729\n",
       "saab              0.001467\n",
       "daewoo            0.001453\n",
       "trabant           0.001348\n",
       "lancia            0.001287\n",
       "rover             0.001264\n",
       "lada              0.000598\n",
       "Name: brand, dtype: float64"
      ]
     },
     "execution_count": 23,
     "metadata": {},
     "output_type": "execute_result"
    }
   ],
   "source": [
    "print(autos[\"brand\"].unique().shape)\n",
    "autos[\"brand\"].value_counts(normalize=True) # normalize enables it to be percentage of total, rather than sum total"
   ]
  },
  {
   "cell_type": "markdown",
   "metadata": {},
   "source": [
    "There are 40 different brands sold on German eBay, with volkswagen being the most popular brand by a large margin. However, it appears as though the majority of brands make up a very smaller percentage of the total number of cars sold, so I will only select the top car brands that make up a cummulative 95% of the total number of cars sold."
   ]
  },
  {
   "cell_type": "markdown",
   "metadata": {},
   "source": [
    "## Top Values Frequency Distribution\n",
    "\n",
    "I want to calculate the top brands of cars that account for 95% of all cars sold on the German eBay site. In order to accomplish this, I will create a function that takes in a dataset and a column name in that dataset and will return the top variations of that  column until they account for X% of the total values in the dataset. The comment parameter will summarize the findings if set to True."
   ]
  },
  {
   "cell_type": "code",
   "execution_count": 24,
   "metadata": {},
   "outputs": [
    {
     "name": "stdout",
     "output_type": "stream",
     "text": [
      "The top 23 brands make up at least 95% of the total number of brands in the dataset.\n"
     ]
    },
    {
     "data": {
      "text/plain": [
       "volkswagen        0.211843\n",
       "bmw               0.109945\n",
       "opel              0.106177\n",
       "mercedes_benz     0.097092\n",
       "audi              0.089745\n",
       "ford              0.068687\n",
       "renault           0.047426\n",
       "peugeot           0.030157\n",
       "fiat              0.025674\n",
       "seat              0.018690\n",
       "skoda             0.015761\n",
       "mazda             0.015418\n",
       "smart             0.014373\n",
       "citroen           0.013943\n",
       "nissan            0.013606\n",
       "toyota            0.012993\n",
       "hyundai           0.010000\n",
       "mini              0.009434\n",
       "volvo             0.009166\n",
       "sonstige_autos    0.009146\n",
       "mitsubishi        0.008239\n",
       "honda             0.007551\n",
       "kia               0.006935\n",
       "Name: brand, dtype: float64"
      ]
     },
     "execution_count": 24,
     "metadata": {},
     "output_type": "execute_result"
    }
   ],
   "source": [
    "def top_values_for_column(dataset, column, percentage, comment=False):\n",
    "    \n",
    "    total_percentage = 0\n",
    "    count = 0\n",
    "    \n",
    "    # orders the variations within the column by frequency\n",
    "    for val in dataset[column].value_counts(normalize=True):\n",
    "        if total_percentage < percentage / 100:  # adds values until they make up 95% of the total values in the dataset\n",
    "            count += 1\n",
    "            total_percentage += val\n",
    "    if comment: # if comment is set to True, will summarize the data in a sentence\n",
    "        print(\"The top \" + str(count) + \" \" + str(column) + \"s make up at least \" + str(percentage) + \"% of the total number of \" + str(column) + \"s in the dataset.\")\n",
    "    return dataset[column].value_counts(normalize=True).head(count)\n",
    "\n",
    "top_values_for_column(autos, \"brand\", 95, True)\n"
   ]
  },
  {
   "cell_type": "markdown",
   "metadata": {},
   "source": [
    "## Comparing Brand to Other Variables\n",
    "\n",
    "Next, I want to find the average price and mileage of the top 23 brands sold that make up 95% of the total number of cars sold. The following function will use the top_values_for_column function to calculate the top variations of independent variable A until they accound for X% of the total number of cars sold in the dataset, and then will return the average of dependent variable B for each variation of variable A. If sort is set to true, the data will be sorted by the mean of the dependent variable. Otherwise it will remain sorted by the frequency of the independent variable. At the end, we will convert the dictionary or list of lists into a pandas dataframe so is is more readable."
   ]
  },
  {
   "cell_type": "code",
   "execution_count": 25,
   "metadata": {},
   "outputs": [],
   "source": [
    "def comparing_two_values(dataset, independent_var, dependent_var, percentage, sort=False):\n",
    "    length = len(top_values_for_column(dataset, independent_var, percentage)) # number of values making up X% of data\n",
    "    top_independent = dataset[independent_var].value_counts(normalize=True).index[:length] # list of values making up X% of data\n",
    "    mean_X_per_Y_dict = {} # will return unsorted values if sort=False\n",
    "    mean_X_per_Y = []\n",
    "    mean_X_per_Y_sorted = [] # will return sorted values if sort=True\n",
    "    \n",
    "    for var in top_independent:\n",
    "        X_vals = dataset[dataset[independent_var] == var] # creates a dataset of values in which independent variable = specific variation\n",
    "        \n",
    "        # calculates mean of dependent variable for each variation of independent variable\n",
    "        if sort == True: \n",
    "            mean_X_per_Y.append([round(X_vals[dependent_var].mean(), 2), var]) # set to mean, independent var so it can be sorted\n",
    "        else:\n",
    "            mean_X_per_Y_dict[var] = round(X_vals[dependent_var].mean(), 2)\n",
    "            \n",
    "    if sort == True:\n",
    "        \n",
    "        mean_X_per_Y = sorted(mean_X_per_Y, reverse=True) # sorts values by dependent variable\n",
    "\n",
    "        for value in mean_X_per_Y:\n",
    "            mean_X_per_Y_sorted.append([value[1], value[0]]) # reverses order back to independent var, mean after sorting\n",
    "\n",
    "        return pd.DataFrame.from_records(mean_X_per_Y_sorted, columns=[str(independent_var).capitalize(), str(dependent_var).capitalize()])\n",
    "    \n",
    "    else:\n",
    "        return pd.DataFrame.from_dict(mean_X_per_Y_dict, orient='index', columns=[str(dependent_var).capitalize()])"
   ]
  },
  {
   "cell_type": "markdown",
   "metadata": {},
   "source": [
    "For simplicity's sake, let's limit the number of top brands to those that consist of 75% of the total number of cars in the dataset. This should consist of much fewer brands and thus will be much easier to analyze."
   ]
  },
  {
   "cell_type": "code",
   "execution_count": 26,
   "metadata": {},
   "outputs": [
    {
     "name": "stdout",
     "output_type": "stream",
     "text": [
      "The top 8 brands make up at least 75% of the total number of brands in the dataset.\n"
     ]
    },
    {
     "data": {
      "text/plain": [
       "volkswagen       0.211843\n",
       "bmw              0.109945\n",
       "opel             0.106177\n",
       "mercedes_benz    0.097092\n",
       "audi             0.089745\n",
       "ford             0.068687\n",
       "renault          0.047426\n",
       "peugeot          0.030157\n",
       "Name: brand, dtype: float64"
      ]
     },
     "execution_count": 26,
     "metadata": {},
     "output_type": "execute_result"
    }
   ],
   "source": [
    "top_values_for_column(autos, \"brand\", 75, True)"
   ]
  },
  {
   "cell_type": "code",
   "execution_count": 27,
   "metadata": {},
   "outputs": [
    {
     "data": {
      "text/html": [
       "<div>\n",
       "<style scoped>\n",
       "    .dataframe tbody tr th:only-of-type {\n",
       "        vertical-align: middle;\n",
       "    }\n",
       "\n",
       "    .dataframe tbody tr th {\n",
       "        vertical-align: top;\n",
       "    }\n",
       "\n",
       "    .dataframe thead th {\n",
       "        text-align: right;\n",
       "    }\n",
       "</style>\n",
       "<table border=\"1\" class=\"dataframe\">\n",
       "  <thead>\n",
       "    <tr style=\"text-align: right;\">\n",
       "      <th></th>\n",
       "      <th>Brand</th>\n",
       "      <th>Price</th>\n",
       "      <th>Kilometer</th>\n",
       "    </tr>\n",
       "  </thead>\n",
       "  <tbody>\n",
       "    <tr>\n",
       "      <td>0</td>\n",
       "      <td>audi</td>\n",
       "      <td>9130.52</td>\n",
       "      <td>129555.52</td>\n",
       "    </tr>\n",
       "    <tr>\n",
       "      <td>1</td>\n",
       "      <td>mercedes_benz</td>\n",
       "      <td>8601.49</td>\n",
       "      <td>130729.38</td>\n",
       "    </tr>\n",
       "    <tr>\n",
       "      <td>2</td>\n",
       "      <td>bmw</td>\n",
       "      <td>8513.88</td>\n",
       "      <td>132988.27</td>\n",
       "    </tr>\n",
       "    <tr>\n",
       "      <td>3</td>\n",
       "      <td>volkswagen</td>\n",
       "      <td>5432.08</td>\n",
       "      <td>128505.40</td>\n",
       "    </tr>\n",
       "    <tr>\n",
       "      <td>4</td>\n",
       "      <td>ford</td>\n",
       "      <td>3734.84</td>\n",
       "      <td>123715.00</td>\n",
       "    </tr>\n",
       "    <tr>\n",
       "      <td>5</td>\n",
       "      <td>peugeot</td>\n",
       "      <td>3290.09</td>\n",
       "      <td>124498.07</td>\n",
       "    </tr>\n",
       "    <tr>\n",
       "      <td>6</td>\n",
       "      <td>opel</td>\n",
       "      <td>2999.34</td>\n",
       "      <td>128808.90</td>\n",
       "    </tr>\n",
       "    <tr>\n",
       "      <td>7</td>\n",
       "      <td>renault</td>\n",
       "      <td>2459.21</td>\n",
       "      <td>127915.95</td>\n",
       "    </tr>\n",
       "  </tbody>\n",
       "</table>\n",
       "</div>"
      ],
      "text/plain": [
       "           Brand    Price  Kilometer\n",
       "0           audi  9130.52  129555.52\n",
       "1  mercedes_benz  8601.49  130729.38\n",
       "2            bmw  8513.88  132988.27\n",
       "3     volkswagen  5432.08  128505.40\n",
       "4           ford  3734.84  123715.00\n",
       "5        peugeot  3290.09  124498.07\n",
       "6           opel  2999.34  128808.90\n",
       "7        renault  2459.21  127915.95"
      ]
     },
     "execution_count": 27,
     "metadata": {},
     "output_type": "execute_result"
    }
   ],
   "source": [
    "brand_prices = comparing_two_values(autos, \"brand\", \"price\", 75, True)\n",
    "brand_kilometer = comparing_two_values(autos, \"brand\", \"kilometer\", 75, True)\n",
    "combined = pd.merge(brand_prices, brand_kilometer, how='left')\n",
    "combined"
   ]
  },
  {
   "cell_type": "markdown",
   "metadata": {},
   "source": [
    "As seen above, the most expensive three car brands are Audi, Mercedes Benz, and BMW. Ford, Peugeot, Opel, and Renault are lower-end cars, and Volkswagen appears to be somewhere in the middle. As for average kilometers on the odometer, all brands appear to have around the same average, which is between 123K and 133K."
   ]
  },
  {
   "cell_type": "markdown",
   "metadata": {},
   "source": [
    "# Results\n",
    "\n",
    "The majority of cars sold on the site have been driven 150k km driven or more, and the vast majority have been driven 125k km or more. It seems as though most sellers are selling their vehicles after a decent amount of time.\n",
    "\n",
    "As the price of the car increases, the frequency of prices at which a car is sold decreases for price categories from around 1k to 500k. It is somewhat surprising that there are a lot of very low-end cars sold on the site as the average price range for the top seven brands was 2500-9000, but it's possible that the median car is much cheaper than the average.\n",
    "\n",
    "50% of cars sold were registered between 1999 and 2008. Since cars generally have a life expectancy of 5-15 years (depending on maintenance and quality of the car) and eBay the site was likely commercially viable in the early 2000's, this is consistent with expectations.\n",
    "\n",
    "Eight brands consist of 75% of total cars sold, while twenty-three brands consist of 95% of total cars sold. Volkswagon was by far the largest manufacturer and controlled over 21% of the total German car market. \n",
    "\n",
    "The eight main brands sold on the site vary significantly in price but they do not vary significantly in kilometers driven. Since the vast majority of cars have between 125-150km driven, this is consistent with the rest of the data."
   ]
  }
 ],
 "metadata": {
  "kernelspec": {
   "display_name": "Python 3",
   "language": "python",
   "name": "python3"
  },
  "language_info": {
   "codemirror_mode": {
    "name": "ipython",
    "version": 3
   },
   "file_extension": ".py",
   "mimetype": "text/x-python",
   "name": "python",
   "nbconvert_exporter": "python",
   "pygments_lexer": "ipython3",
   "version": "3.7.4"
  }
 },
 "nbformat": 4,
 "nbformat_minor": 2
}
